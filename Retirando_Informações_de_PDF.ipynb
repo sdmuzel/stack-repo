{
  "nbformat": 4,
  "nbformat_minor": 0,
  "metadata": {
    "colab": {
      "name": "Retirando Informações de PDF.ipynb",
      "provenance": [],
      "collapsed_sections": [],
      "mount_file_id": "1BhhC5-X88g1itpYPApCKIq1RuCKyJHoM",
      "authorship_tag": "ABX9TyN85zxzU5Bxv7NhJ3PAdV+E"
    },
    "kernelspec": {
      "name": "python3",
      "display_name": "Python 3"
    },
    "language_info": {
      "name": "python"
    }
  },
  "cells": [
    {
      "cell_type": "markdown",
      "source": [
        "---\n",
        "<img alt=\"Colaboratory logo\" width=\"15%\" src=\"https://i.postimg.cc/8CdBQXmP/JPLavor.png\">\n",
        "\n",
        "#### **Data Science**\n",
        "*by [jplavorr](https://linktr.ee/jplavorr)*  \n",
        "\n",
        "---\n",
        "\n",
        "## Biblioteca PDF Plumber\n",
        "\n",
        "Em nossa rotina de trabalho é muito comum termos que lidar com arquivos no formato PDF.\n",
        "\n",
        "\n",
        "Com essa biblioteca, será possível facilitar esse processo. A biblioteca [PDF Plumber](https://github.com/jsvine/pdfplumber) possui uma grande gama de funções, e aqui irei introduzir essa biblioteca.\n",
        "\n",
        "\n",
        "\n"
      ],
      "metadata": {
        "id": "vEd6d8Zrkrx1"
      }
    },
    {
      "cell_type": "code",
      "execution_count": null,
      "metadata": {
        "id": "A7IsOqLXkoin"
      },
      "outputs": [],
      "source": [
        "# instalando a biblioteca\n",
        "!pip install pdfplumber -q"
      ]
    },
    {
      "cell_type": "code",
      "source": [
        "#importando PDF\n",
        "from google.colab import drive"
      ],
      "metadata": {
        "id": "_fkglRtDlEOu"
      },
      "execution_count": null,
      "outputs": []
    },
    {
      "cell_type": "code",
      "source": [
        "# montando o drive\n",
        "drive.mount('/content/gdrive')"
      ],
      "metadata": {
        "colab": {
          "base_uri": "https://localhost:8080/"
        },
        "id": "gEOrKnsBrEXJ",
        "outputId": "4a890c61-1d72-49ec-ee3e-7d4f42de8ffa"
      },
      "execution_count": null,
      "outputs": [
        {
          "output_type": "stream",
          "name": "stdout",
          "text": [
            "Mounted at /content/gdrive\n"
          ]
        }
      ]
    },
    {
      "cell_type": "code",
      "source": [
        "import pdfplumber"
      ],
      "metadata": {
        "id": "EhH45RXXrnfW"
      },
      "execution_count": null,
      "outputs": []
    },
    {
      "cell_type": "code",
      "source": [
        "arquivo = '/content/gdrive/MyDrive/Datasets/Trabalho_Metodos_Computacionais.pdf'"
      ],
      "metadata": {
        "id": "lWK7FtyduYrj"
      },
      "execution_count": null,
      "outputs": []
    },
    {
      "cell_type": "code",
      "source": [
        "# abrindo o documento\n",
        "pdf = pdfplumber.open(arquivo)"
      ],
      "metadata": {
        "id": "4GGgJn7crh0J"
      },
      "execution_count": null,
      "outputs": []
    },
    {
      "cell_type": "code",
      "source": [
        "# ver o número de páginas do pdf\n",
        "pdf.pages"
      ],
      "metadata": {
        "colab": {
          "base_uri": "https://localhost:8080/"
        },
        "id": "zgmhIQUYrk45",
        "outputId": "93151415-d9fe-4c45-8a45-1ae78572c3ea"
      },
      "execution_count": null,
      "outputs": [
        {
          "output_type": "execute_result",
          "data": {
            "text/plain": [
              "[<Page:1>,\n",
              " <Page:2>,\n",
              " <Page:3>,\n",
              " <Page:4>,\n",
              " <Page:5>,\n",
              " <Page:6>,\n",
              " <Page:7>,\n",
              " <Page:8>,\n",
              " <Page:9>,\n",
              " <Page:10>,\n",
              " <Page:11>,\n",
              " <Page:12>,\n",
              " <Page:13>,\n",
              " <Page:14>,\n",
              " <Page:15>,\n",
              " <Page:16>]"
            ]
          },
          "metadata": {},
          "execution_count": 18
        }
      ]
    },
    {
      "cell_type": "code",
      "source": [
        "# selecionando uma página\n",
        "page = pdf.pages[10]"
      ],
      "metadata": {
        "id": "3_xQ_r9Gr-tr"
      },
      "execution_count": null,
      "outputs": []
    },
    {
      "cell_type": "code",
      "source": [
        "page"
      ],
      "metadata": {
        "colab": {
          "base_uri": "https://localhost:8080/"
        },
        "id": "O3rDykpOsUFj",
        "outputId": "2c81aaf8-1d08-44a6-f076-1227af8b1683"
      },
      "execution_count": null,
      "outputs": [
        {
          "output_type": "execute_result",
          "data": {
            "text/plain": [
              "<Page:11>"
            ]
          },
          "metadata": {},
          "execution_count": 11
        }
      ]
    },
    {
      "cell_type": "code",
      "source": [
        "# extraindo o texto do arquivo\n",
        "text = page.extract_text()"
      ],
      "metadata": {
        "id": "mooy0f2fsUlw"
      },
      "execution_count": null,
      "outputs": []
    },
    {
      "cell_type": "code",
      "source": [
        "print(text)"
      ],
      "metadata": {
        "colab": {
          "base_uri": "https://localhost:8080/"
        },
        "id": "j_wKRRyWsZEb",
        "outputId": "891dae03-faba-43bd-b3be-169a5d1aaac7"
      },
      "execution_count": null,
      "outputs": [
        {
          "output_type": "stream",
          "name": "stdout",
          "text": [
            "11\n",
            "6 Monte Carlo\n",
            "O método de Monte Carlo é muito usado em estatística para avaliação numérica do desempenho de esti-\n",
            "madores (pontuais e intervalares) e testes de hipóteses. Nesta seção, apresentamos a avaliação numérica\n",
            "dos estimadores de máxima verossimilhança dos parâmetros do modelo Birbaum-Saunders usando o mé-\n",
            "todo BFGS nas linguagens de progamação C e R.\n",
            "Iremos considerar os seguintes tamanhos de amostras n = 20,30,50,80,100,150, e os valores\n",
            "assumidos para o parâmetro de forma foram α = {0.50,0.75,1.00,1.5,2}. O parâmetros de escala, é\n",
            "fixado em β =1.0. Iremos admitir 1000 réplicas de Monte Carlo em todos os experimentos.\n",
            "6.1 Viés Relativo\n",
            "PelaTabela1,podemosnotarquepelaviéssernegativo,queosvaloresdasestimativasparaoparâmetro\n",
            "α é menor que o valor fixado como verdadeiro em todos os cenários, ou seja, em geral temos que os\n",
            "verdadeiros valores do parâmetro α são subestimados. Note também que o viés de estimação em valor\n",
            "absoluto diminuí à medida que aumentamos o valor de α na linguagem R, para a linguagem C diminui\n",
            "apenas para valores α>0.5.\n",
            "Tabela 1: Viés relativo para α\n",
            "α Linguagem n = 20 n=30 n=80 n=100 n = 150\n",
            "α=0.50 C -2.267 -2.399 -2.9344 -2.7072 -2.638\n",
            "R -0.0393 -0.0200 -0.0078 -0.0069 -0.0060\n",
            "α=0.75 C -1.1 -0.920 -0.692 -0.6561 -0.6364\n",
            "R -0.051 -0.0304 -0.0059 0.00499 -0.0047\n",
            "α=1.00 C -0.528 -0.515 -0.5057 -0.505 -0.5029\n",
            "R -0.0339 -0.0300 -0.0083 -0.0106 -0.0050\n",
            "α=1.50 C -0.332 -0.326 -0.274 -0.269 -0.259\n",
            "R -0.041 -0.0305 -0.0142 -0.0054 -0.0045\n",
            "α=2.00 C -0.149 -0.130 -0.0852 -0.0759 -0.05489\n",
            "R -0.0379 -0.029 -0.0137 -0.0109 -0.0045\n",
            "Tabela 2: Viés relativo para β\n",
            "α Linguagem n = 20 n=30 n=80 n=100 n = 150\n",
            "α=0.50 C 2.559 2.930 4.7864 4.1825 4.3973\n",
            "R 0.0059 0.0040 0.0039 0.0029 0.0018\n",
            "α=0.75 C 0.554 0.3240 0.0774 0.0299 0.0117\n",
            "R 0.012 0.008 0.0047 0.0040 0.0023\n",
            "α=1.00 C 0.0079 0.0024 -0.0029 -0.0028 0.0017\n",
            "R 0.0192 0.0099 0.0082 0.0034 0.0027\n",
            "α=1.50 C 0.0212 0.0095 -0.0013 -0.0032 -0.0014\n",
            "R 0.0242 0.016 0.00771 0.0084 0.0084\n",
            "α=2.00 C 0.0895 0.061 0.0289 0.0213 0.0163\n",
            "R 0.0392 0.0287 0.0070 0.00163 0.00537\n"
          ]
        }
      ]
    },
    {
      "cell_type": "code",
      "source": [
        "print(text[0:3])"
      ],
      "metadata": {
        "colab": {
          "base_uri": "https://localhost:8080/"
        },
        "id": "eUNHjRnxsaIg",
        "outputId": "0caff38a-c4cf-4fc1-8b4a-cb85a635e532"
      },
      "execution_count": null,
      "outputs": [
        {
          "output_type": "stream",
          "name": "stdout",
          "text": [
            "11\n",
            "\n"
          ]
        }
      ]
    },
    {
      "cell_type": "markdown",
      "source": [
        "#Retirando Tabelas"
      ],
      "metadata": {
        "id": "CPwOOaLY6wV_"
      }
    },
    {
      "cell_type": "code",
      "source": [
        "arquivo = \"/content/gdrive/MyDrive/Datasets/ca-warn-report.pdf\""
      ],
      "metadata": {
        "id": "r66T37K-jKxz"
      },
      "execution_count": null,
      "outputs": []
    },
    {
      "cell_type": "code",
      "source": [
        "p0 = pdf.pages[0]"
      ],
      "metadata": {
        "id": "CBQbwcMB6_dQ"
      },
      "execution_count": null,
      "outputs": []
    },
    {
      "cell_type": "code",
      "source": [
        "table = p0.extract_table()"
      ],
      "metadata": {
        "id": "6T1lUitW7CAM"
      },
      "execution_count": null,
      "outputs": []
    },
    {
      "cell_type": "code",
      "source": [
        "table[0:3]"
      ],
      "metadata": {
        "colab": {
          "base_uri": "https://localhost:8080/"
        },
        "id": "67j_jUpq7Czw",
        "outputId": "0c78db84-2eab-48c3-ee4f-b6d60c638f58"
      },
      "execution_count": null,
      "outputs": [
        {
          "output_type": "execute_result",
          "data": {
            "text/plain": [
              "[['Notice Date',\n",
              "  'Effective',\n",
              "  'Received',\n",
              "  'Company',\n",
              "  'City',\n",
              "  'No. Of',\n",
              "  'Layoff/Closure'],\n",
              " ['06/22/2015',\n",
              "  '0  3  / 2  5  / 2  0  16',\n",
              "  '0  7  / 0  1  / 2  0  15',\n",
              "  'Maxim Integrated Product',\n",
              "  'San Jose',\n",
              "  '150',\n",
              "  'Closure Permanent'],\n",
              " ['06/30/2015',\n",
              "  '0  8  / 2  9  / 2  0  15',\n",
              "  '0  7  / 0  1  / 2  0  15',\n",
              "  'McGraw-Hill Education',\n",
              "  'Monterey',\n",
              "  '137',\n",
              "  'Layoff Unknown at this time']]"
            ]
          },
          "metadata": {},
          "execution_count": 23
        }
      ]
    },
    {
      "cell_type": "code",
      "source": [
        "import pandas as pd"
      ],
      "metadata": {
        "id": "tpnO5Fz37-Fx"
      },
      "execution_count": null,
      "outputs": []
    },
    {
      "cell_type": "code",
      "source": [
        "df = pd.DataFrame(table[1:], columns=table[0])\n",
        "for column in [\"Effective\", \"Received\"]:\n",
        "    df[column] = df[column].str.replace(\" \", \"\")"
      ],
      "metadata": {
        "id": "vBNeu9wZ8AOd"
      },
      "execution_count": null,
      "outputs": []
    },
    {
      "cell_type": "code",
      "source": [
        "df.head()"
      ],
      "metadata": {
        "colab": {
          "base_uri": "https://localhost:8080/",
          "height": 206
        },
        "id": "echA1ZuApnmU",
        "outputId": "1943243e-5ea9-489f-8d37-690274351cb3"
      },
      "execution_count": null,
      "outputs": [
        {
          "output_type": "execute_result",
          "data": {
            "text/plain": [
              "  Notice Date   Effective    Received                             Company  \\\n",
              "0  06/22/2015  03/25/2016  07/01/2015            Maxim Integrated Product   \n",
              "1  06/30/2015  08/29/2015  07/01/2015               McGraw-Hill Education   \n",
              "2  06/30/2015  08/30/2015  07/01/2015  Long Beach Memorial Medical Center   \n",
              "3  07/01/2015  09/02/2015  07/01/2015                              Leidos   \n",
              "4  07/01/2015  09/30/2016  07/01/2015      Bosch Healthcare Systems, Inc.   \n",
              "\n",
              "         City No. Of               Layoff/Closure  \n",
              "0    San Jose    150            Closure Permanent  \n",
              "1    Monterey    137  Layoff Unknown at this time  \n",
              "2  Long Beach     90             Layoff Permanent  \n",
              "3  El Segundo     72             Layoff Permanent  \n",
              "4   Palo Alto     55            Closure Permanent  "
            ],
            "text/html": [
              "\n",
              "  <div id=\"df-54143c2f-78ee-4161-9f72-6cfe51f51f13\">\n",
              "    <div class=\"colab-df-container\">\n",
              "      <div>\n",
              "<style scoped>\n",
              "    .dataframe tbody tr th:only-of-type {\n",
              "        vertical-align: middle;\n",
              "    }\n",
              "\n",
              "    .dataframe tbody tr th {\n",
              "        vertical-align: top;\n",
              "    }\n",
              "\n",
              "    .dataframe thead th {\n",
              "        text-align: right;\n",
              "    }\n",
              "</style>\n",
              "<table border=\"1\" class=\"dataframe\">\n",
              "  <thead>\n",
              "    <tr style=\"text-align: right;\">\n",
              "      <th></th>\n",
              "      <th>Notice Date</th>\n",
              "      <th>Effective</th>\n",
              "      <th>Received</th>\n",
              "      <th>Company</th>\n",
              "      <th>City</th>\n",
              "      <th>No. Of</th>\n",
              "      <th>Layoff/Closure</th>\n",
              "    </tr>\n",
              "  </thead>\n",
              "  <tbody>\n",
              "    <tr>\n",
              "      <th>0</th>\n",
              "      <td>06/22/2015</td>\n",
              "      <td>03/25/2016</td>\n",
              "      <td>07/01/2015</td>\n",
              "      <td>Maxim Integrated Product</td>\n",
              "      <td>San Jose</td>\n",
              "      <td>150</td>\n",
              "      <td>Closure Permanent</td>\n",
              "    </tr>\n",
              "    <tr>\n",
              "      <th>1</th>\n",
              "      <td>06/30/2015</td>\n",
              "      <td>08/29/2015</td>\n",
              "      <td>07/01/2015</td>\n",
              "      <td>McGraw-Hill Education</td>\n",
              "      <td>Monterey</td>\n",
              "      <td>137</td>\n",
              "      <td>Layoff Unknown at this time</td>\n",
              "    </tr>\n",
              "    <tr>\n",
              "      <th>2</th>\n",
              "      <td>06/30/2015</td>\n",
              "      <td>08/30/2015</td>\n",
              "      <td>07/01/2015</td>\n",
              "      <td>Long Beach Memorial Medical Center</td>\n",
              "      <td>Long Beach</td>\n",
              "      <td>90</td>\n",
              "      <td>Layoff Permanent</td>\n",
              "    </tr>\n",
              "    <tr>\n",
              "      <th>3</th>\n",
              "      <td>07/01/2015</td>\n",
              "      <td>09/02/2015</td>\n",
              "      <td>07/01/2015</td>\n",
              "      <td>Leidos</td>\n",
              "      <td>El Segundo</td>\n",
              "      <td>72</td>\n",
              "      <td>Layoff Permanent</td>\n",
              "    </tr>\n",
              "    <tr>\n",
              "      <th>4</th>\n",
              "      <td>07/01/2015</td>\n",
              "      <td>09/30/2016</td>\n",
              "      <td>07/01/2015</td>\n",
              "      <td>Bosch Healthcare Systems, Inc.</td>\n",
              "      <td>Palo Alto</td>\n",
              "      <td>55</td>\n",
              "      <td>Closure Permanent</td>\n",
              "    </tr>\n",
              "  </tbody>\n",
              "</table>\n",
              "</div>\n",
              "      <button class=\"colab-df-convert\" onclick=\"convertToInteractive('df-54143c2f-78ee-4161-9f72-6cfe51f51f13')\"\n",
              "              title=\"Convert this dataframe to an interactive table.\"\n",
              "              style=\"display:none;\">\n",
              "        \n",
              "  <svg xmlns=\"http://www.w3.org/2000/svg\" height=\"24px\"viewBox=\"0 0 24 24\"\n",
              "       width=\"24px\">\n",
              "    <path d=\"M0 0h24v24H0V0z\" fill=\"none\"/>\n",
              "    <path d=\"M18.56 5.44l.94 2.06.94-2.06 2.06-.94-2.06-.94-.94-2.06-.94 2.06-2.06.94zm-11 1L8.5 8.5l.94-2.06 2.06-.94-2.06-.94L8.5 2.5l-.94 2.06-2.06.94zm10 10l.94 2.06.94-2.06 2.06-.94-2.06-.94-.94-2.06-.94 2.06-2.06.94z\"/><path d=\"M17.41 7.96l-1.37-1.37c-.4-.4-.92-.59-1.43-.59-.52 0-1.04.2-1.43.59L10.3 9.45l-7.72 7.72c-.78.78-.78 2.05 0 2.83L4 21.41c.39.39.9.59 1.41.59.51 0 1.02-.2 1.41-.59l7.78-7.78 2.81-2.81c.8-.78.8-2.07 0-2.86zM5.41 20L4 18.59l7.72-7.72 1.47 1.35L5.41 20z\"/>\n",
              "  </svg>\n",
              "      </button>\n",
              "      \n",
              "  <style>\n",
              "    .colab-df-container {\n",
              "      display:flex;\n",
              "      flex-wrap:wrap;\n",
              "      gap: 12px;\n",
              "    }\n",
              "\n",
              "    .colab-df-convert {\n",
              "      background-color: #E8F0FE;\n",
              "      border: none;\n",
              "      border-radius: 50%;\n",
              "      cursor: pointer;\n",
              "      display: none;\n",
              "      fill: #1967D2;\n",
              "      height: 32px;\n",
              "      padding: 0 0 0 0;\n",
              "      width: 32px;\n",
              "    }\n",
              "\n",
              "    .colab-df-convert:hover {\n",
              "      background-color: #E2EBFA;\n",
              "      box-shadow: 0px 1px 2px rgba(60, 64, 67, 0.3), 0px 1px 3px 1px rgba(60, 64, 67, 0.15);\n",
              "      fill: #174EA6;\n",
              "    }\n",
              "\n",
              "    [theme=dark] .colab-df-convert {\n",
              "      background-color: #3B4455;\n",
              "      fill: #D2E3FC;\n",
              "    }\n",
              "\n",
              "    [theme=dark] .colab-df-convert:hover {\n",
              "      background-color: #434B5C;\n",
              "      box-shadow: 0px 1px 3px 1px rgba(0, 0, 0, 0.15);\n",
              "      filter: drop-shadow(0px 1px 2px rgba(0, 0, 0, 0.3));\n",
              "      fill: #FFFFFF;\n",
              "    }\n",
              "  </style>\n",
              "\n",
              "      <script>\n",
              "        const buttonEl =\n",
              "          document.querySelector('#df-54143c2f-78ee-4161-9f72-6cfe51f51f13 button.colab-df-convert');\n",
              "        buttonEl.style.display =\n",
              "          google.colab.kernel.accessAllowed ? 'block' : 'none';\n",
              "\n",
              "        async function convertToInteractive(key) {\n",
              "          const element = document.querySelector('#df-54143c2f-78ee-4161-9f72-6cfe51f51f13');\n",
              "          const dataTable =\n",
              "            await google.colab.kernel.invokeFunction('convertToInteractive',\n",
              "                                                     [key], {});\n",
              "          if (!dataTable) return;\n",
              "\n",
              "          const docLinkHtml = 'Like what you see? Visit the ' +\n",
              "            '<a target=\"_blank\" href=https://colab.research.google.com/notebooks/data_table.ipynb>data table notebook</a>'\n",
              "            + ' to learn more about interactive tables.';\n",
              "          element.innerHTML = '';\n",
              "          dataTable['output_type'] = 'display_data';\n",
              "          await google.colab.output.renderOutput(dataTable, element);\n",
              "          const docLink = document.createElement('div');\n",
              "          docLink.innerHTML = docLinkHtml;\n",
              "          element.appendChild(docLink);\n",
              "        }\n",
              "      </script>\n",
              "    </div>\n",
              "  </div>\n",
              "  "
            ]
          },
          "metadata": {},
          "execution_count": 27
        }
      ]
    },
    {
      "cell_type": "markdown",
      "source": [
        "# Camelot"
      ],
      "metadata": {
        "id": "2zavanM003tz"
      }
    },
    {
      "cell_type": "code",
      "source": [
        "!pip install \"camelot-py[cv]\" -q"
      ],
      "metadata": {
        "colab": {
          "base_uri": "https://localhost:8080/"
        },
        "id": "ukqChlB1yYGR",
        "outputId": "3400a94b-3b8e-4239-dfd1-305a1047d6d3"
      },
      "execution_count": null,
      "outputs": [
        {
          "output_type": "stream",
          "name": "stdout",
          "text": [
            "\u001b[?25l\r\u001b[K     |████████                        | 10 kB 16.8 MB/s eta 0:00:01\r\u001b[K     |████████████████                | 20 kB 24.0 MB/s eta 0:00:01\r\u001b[K     |████████████████████████        | 30 kB 29.5 MB/s eta 0:00:01\r\u001b[K     |████████████████████████████████| 40 kB 29.6 MB/s eta 0:00:01\r\u001b[K     |████████████████████████████████| 40 kB 25 kB/s \n",
            "\u001b[K     |████████████████████████████████| 207 kB 41.2 MB/s \n",
            "\u001b[K     |████████████████████████████████| 11.7 MB 51.4 MB/s \n",
            "\u001b[?25h"
          ]
        }
      ]
    },
    {
      "cell_type": "code",
      "source": [
        "!apt install python3-tk ghostscript -q"
      ],
      "metadata": {
        "id": "ugB36RcPybh_"
      },
      "execution_count": null,
      "outputs": []
    },
    {
      "cell_type": "code",
      "source": [
        "import camelot"
      ],
      "metadata": {
        "id": "1q9Nxd8ey-dH"
      },
      "execution_count": null,
      "outputs": []
    },
    {
      "cell_type": "code",
      "source": [
        "tables = camelot.read_pdf(arquivo, pages='1')"
      ],
      "metadata": {
        "id": "GYgbv1LuzSwr"
      },
      "execution_count": null,
      "outputs": []
    },
    {
      "cell_type": "code",
      "source": [
        "print(tables)"
      ],
      "metadata": {
        "colab": {
          "base_uri": "https://localhost:8080/"
        },
        "id": "tbW7pq3fzWVQ",
        "outputId": "97c58dd9-8cb1-4d2b-caaa-5e103277ff7b"
      },
      "execution_count": null,
      "outputs": [
        {
          "output_type": "stream",
          "name": "stdout",
          "text": [
            "<TableList n=1>\n"
          ]
        }
      ]
    },
    {
      "cell_type": "code",
      "source": [
        "tables.export('foo.csv', f='csv', compress=True)"
      ],
      "metadata": {
        "id": "qGUSrz1c9F3j"
      },
      "execution_count": null,
      "outputs": []
    },
    {
      "cell_type": "code",
      "source": [
        "tables[0].to_csv('foo.csv')  # to a csv file"
      ],
      "metadata": {
        "id": "hlc_Hmzz9JKS"
      },
      "execution_count": null,
      "outputs": []
    },
    {
      "cell_type": "code",
      "source": [
        "df = tables[0].df  # to a df"
      ],
      "metadata": {
        "id": "Kl91K2TK9K2r"
      },
      "execution_count": null,
      "outputs": []
    },
    {
      "cell_type": "code",
      "source": [
        "df.head()"
      ],
      "metadata": {
        "colab": {
          "base_uri": "https://localhost:8080/",
          "height": 206
        },
        "id": "uqPeF4lx9L0f",
        "outputId": "44d58e44-3403-4f47-a9af-27202e4b7948"
      },
      "execution_count": null,
      "outputs": [
        {
          "output_type": "execute_result",
          "data": {
            "text/plain": [
              "0  index Notice Date   Effective Received                             Company  \\\n",
              "0      1  06/22/2015  03/25/2016                     Maxim Integrated Product   \n",
              "1      2  06/30/2015  08/29/2015                        McGraw-Hill Education   \n",
              "2      3  06/30/2015  08/30/2015           Long Beach Memorial Medical Center   \n",
              "3      4  07/01/2015  09/02/2015                                       Leidos   \n",
              "4      5  07/01/2015  09/30/2016               Bosch Healthcare Systems, Inc.   \n",
              "\n",
              "0        City No. Of               Layoff/Closure  \n",
              "0    San Jose    150            Closure Permanent  \n",
              "1    Monterey    137  Layoff Unknown at this time  \n",
              "2  Long Beach     90             Layoff Permanent  \n",
              "3  El Segundo     72             Layoff Permanent  \n",
              "4   Palo Alto     55            Closure Permanent  "
            ],
            "text/html": [
              "\n",
              "  <div id=\"df-d24cb84d-d985-4119-8d11-61b5253b372b\">\n",
              "    <div class=\"colab-df-container\">\n",
              "      <div>\n",
              "<style scoped>\n",
              "    .dataframe tbody tr th:only-of-type {\n",
              "        vertical-align: middle;\n",
              "    }\n",
              "\n",
              "    .dataframe tbody tr th {\n",
              "        vertical-align: top;\n",
              "    }\n",
              "\n",
              "    .dataframe thead th {\n",
              "        text-align: right;\n",
              "    }\n",
              "</style>\n",
              "<table border=\"1\" class=\"dataframe\">\n",
              "  <thead>\n",
              "    <tr style=\"text-align: right;\">\n",
              "      <th></th>\n",
              "      <th>index</th>\n",
              "      <th>Notice Date</th>\n",
              "      <th>Effective</th>\n",
              "      <th>Received</th>\n",
              "      <th>Company</th>\n",
              "      <th>City</th>\n",
              "      <th>No. Of</th>\n",
              "      <th>Layoff/Closure</th>\n",
              "    </tr>\n",
              "  </thead>\n",
              "  <tbody>\n",
              "    <tr>\n",
              "      <th>0</th>\n",
              "      <td>1</td>\n",
              "      <td>06/22/2015</td>\n",
              "      <td>03/25/2016</td>\n",
              "      <td></td>\n",
              "      <td>Maxim Integrated Product</td>\n",
              "      <td>San Jose</td>\n",
              "      <td>150</td>\n",
              "      <td>Closure Permanent</td>\n",
              "    </tr>\n",
              "    <tr>\n",
              "      <th>1</th>\n",
              "      <td>2</td>\n",
              "      <td>06/30/2015</td>\n",
              "      <td>08/29/2015</td>\n",
              "      <td></td>\n",
              "      <td>McGraw-Hill Education</td>\n",
              "      <td>Monterey</td>\n",
              "      <td>137</td>\n",
              "      <td>Layoff Unknown at this time</td>\n",
              "    </tr>\n",
              "    <tr>\n",
              "      <th>2</th>\n",
              "      <td>3</td>\n",
              "      <td>06/30/2015</td>\n",
              "      <td>08/30/2015</td>\n",
              "      <td></td>\n",
              "      <td>Long Beach Memorial Medical Center</td>\n",
              "      <td>Long Beach</td>\n",
              "      <td>90</td>\n",
              "      <td>Layoff Permanent</td>\n",
              "    </tr>\n",
              "    <tr>\n",
              "      <th>3</th>\n",
              "      <td>4</td>\n",
              "      <td>07/01/2015</td>\n",
              "      <td>09/02/2015</td>\n",
              "      <td></td>\n",
              "      <td>Leidos</td>\n",
              "      <td>El Segundo</td>\n",
              "      <td>72</td>\n",
              "      <td>Layoff Permanent</td>\n",
              "    </tr>\n",
              "    <tr>\n",
              "      <th>4</th>\n",
              "      <td>5</td>\n",
              "      <td>07/01/2015</td>\n",
              "      <td>09/30/2016</td>\n",
              "      <td></td>\n",
              "      <td>Bosch Healthcare Systems, Inc.</td>\n",
              "      <td>Palo Alto</td>\n",
              "      <td>55</td>\n",
              "      <td>Closure Permanent</td>\n",
              "    </tr>\n",
              "  </tbody>\n",
              "</table>\n",
              "</div>\n",
              "      <button class=\"colab-df-convert\" onclick=\"convertToInteractive('df-d24cb84d-d985-4119-8d11-61b5253b372b')\"\n",
              "              title=\"Convert this dataframe to an interactive table.\"\n",
              "              style=\"display:none;\">\n",
              "        \n",
              "  <svg xmlns=\"http://www.w3.org/2000/svg\" height=\"24px\"viewBox=\"0 0 24 24\"\n",
              "       width=\"24px\">\n",
              "    <path d=\"M0 0h24v24H0V0z\" fill=\"none\"/>\n",
              "    <path d=\"M18.56 5.44l.94 2.06.94-2.06 2.06-.94-2.06-.94-.94-2.06-.94 2.06-2.06.94zm-11 1L8.5 8.5l.94-2.06 2.06-.94-2.06-.94L8.5 2.5l-.94 2.06-2.06.94zm10 10l.94 2.06.94-2.06 2.06-.94-2.06-.94-.94-2.06-.94 2.06-2.06.94z\"/><path d=\"M17.41 7.96l-1.37-1.37c-.4-.4-.92-.59-1.43-.59-.52 0-1.04.2-1.43.59L10.3 9.45l-7.72 7.72c-.78.78-.78 2.05 0 2.83L4 21.41c.39.39.9.59 1.41.59.51 0 1.02-.2 1.41-.59l7.78-7.78 2.81-2.81c.8-.78.8-2.07 0-2.86zM5.41 20L4 18.59l7.72-7.72 1.47 1.35L5.41 20z\"/>\n",
              "  </svg>\n",
              "      </button>\n",
              "      \n",
              "  <style>\n",
              "    .colab-df-container {\n",
              "      display:flex;\n",
              "      flex-wrap:wrap;\n",
              "      gap: 12px;\n",
              "    }\n",
              "\n",
              "    .colab-df-convert {\n",
              "      background-color: #E8F0FE;\n",
              "      border: none;\n",
              "      border-radius: 50%;\n",
              "      cursor: pointer;\n",
              "      display: none;\n",
              "      fill: #1967D2;\n",
              "      height: 32px;\n",
              "      padding: 0 0 0 0;\n",
              "      width: 32px;\n",
              "    }\n",
              "\n",
              "    .colab-df-convert:hover {\n",
              "      background-color: #E2EBFA;\n",
              "      box-shadow: 0px 1px 2px rgba(60, 64, 67, 0.3), 0px 1px 3px 1px rgba(60, 64, 67, 0.15);\n",
              "      fill: #174EA6;\n",
              "    }\n",
              "\n",
              "    [theme=dark] .colab-df-convert {\n",
              "      background-color: #3B4455;\n",
              "      fill: #D2E3FC;\n",
              "    }\n",
              "\n",
              "    [theme=dark] .colab-df-convert:hover {\n",
              "      background-color: #434B5C;\n",
              "      box-shadow: 0px 1px 3px 1px rgba(0, 0, 0, 0.15);\n",
              "      filter: drop-shadow(0px 1px 2px rgba(0, 0, 0, 0.3));\n",
              "      fill: #FFFFFF;\n",
              "    }\n",
              "  </style>\n",
              "\n",
              "      <script>\n",
              "        const buttonEl =\n",
              "          document.querySelector('#df-d24cb84d-d985-4119-8d11-61b5253b372b button.colab-df-convert');\n",
              "        buttonEl.style.display =\n",
              "          google.colab.kernel.accessAllowed ? 'block' : 'none';\n",
              "\n",
              "        async function convertToInteractive(key) {\n",
              "          const element = document.querySelector('#df-d24cb84d-d985-4119-8d11-61b5253b372b');\n",
              "          const dataTable =\n",
              "            await google.colab.kernel.invokeFunction('convertToInteractive',\n",
              "                                                     [key], {});\n",
              "          if (!dataTable) return;\n",
              "\n",
              "          const docLinkHtml = 'Like what you see? Visit the ' +\n",
              "            '<a target=\"_blank\" href=https://colab.research.google.com/notebooks/data_table.ipynb>data table notebook</a>'\n",
              "            + ' to learn more about interactive tables.';\n",
              "          element.innerHTML = '';\n",
              "          dataTable['output_type'] = 'display_data';\n",
              "          await google.colab.output.renderOutput(dataTable, element);\n",
              "          const docLink = document.createElement('div');\n",
              "          docLink.innerHTML = docLinkHtml;\n",
              "          element.appendChild(docLink);\n",
              "        }\n",
              "      </script>\n",
              "    </div>\n",
              "  </div>\n",
              "  "
            ]
          },
          "metadata": {},
          "execution_count": 42
        }
      ]
    },
    {
      "cell_type": "code",
      "source": [
        "df.columns = df.iloc[0]"
      ],
      "metadata": {
        "id": "eTZc8m0A9fuJ"
      },
      "execution_count": null,
      "outputs": []
    },
    {
      "cell_type": "code",
      "source": [
        "df.drop(df.index[0],inplace=True)"
      ],
      "metadata": {
        "id": "Z5MiLtG89wRc"
      },
      "execution_count": null,
      "outputs": []
    },
    {
      "cell_type": "code",
      "source": [
        "df.reset_index(inplace=True)"
      ],
      "metadata": {
        "id": "sui98Okq90HU"
      },
      "execution_count": null,
      "outputs": []
    },
    {
      "cell_type": "code",
      "source": [
        ""
      ],
      "metadata": {
        "id": "DdqtIwAv99Os"
      },
      "execution_count": null,
      "outputs": []
    }
  ]
}