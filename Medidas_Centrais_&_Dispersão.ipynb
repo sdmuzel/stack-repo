{
  "nbformat": 4,
  "nbformat_minor": 0,
  "metadata": {
    "colab": {
      "name": "Medidas Centrais & Dispersão.ipynb",
      "provenance": [],
      "collapsed_sections": [],
      "authorship_tag": "ABX9TyOV2//40kuHuS56MGuMZwvW"
    },
    "kernelspec": {
      "name": "python3",
      "display_name": "Python 3"
    },
    "language_info": {
      "name": "python"
    }
  },
  "cells": [
    {
      "cell_type": "markdown",
      "source": [
        "---\n",
        "<img alt=\"Colaboratory logo\" width=\"15%\" src=\"https://i.postimg.cc/8CdBQXmP/JPLavor.png\">\n",
        "\n",
        "#### **Data Science**\n",
        "*by [jplavorr](https://linktr.ee/jplavorr)*  \n",
        "\n",
        "---"
      ],
      "metadata": {
        "id": "uJd9Rxm8ysXI"
      }
    },
    {
      "cell_type": "markdown",
      "source": [
        "O [Airbnb](https://www.airbnb.com.br/), uma das maiores empresas hoteleira da atualidade.\n",
        "\n",
        "O Airbnb faz a ponte das pessoas que querem viajar (e se hospedar) com anfitriões que querem alugar seus imóveis de maneira prática, e ainda oferece uma plataforma inovadora para tornar essa hospedagem alternativa.\n",
        "\n",
        "\n",
        "Uma das iniciativas do Airbnb é disponibilizar dados do site, para algumas das principais cidades do mundo. Por meio do portal [Inside Airbnb](http://insideairbnb.com/get-the-data/), é possível baixar uma grande quantidade de dados para desenvolver projetos e soluções de Data Science."
      ],
      "metadata": {
        "id": "__sfSBzZyxir"
      }
    },
    {
      "cell_type": "code",
      "source": [
        "# importar os pacotes necessarios\n",
        "import pandas as pd\n",
        "import matplotlib.pyplot as plt\n",
        "import seaborn as sns\n",
        "\n",
        "%matplotlib inline"
      ],
      "metadata": {
        "id": "ICHbyHReyst_"
      },
      "execution_count": null,
      "outputs": []
    },
    {
      "cell_type": "code",
      "source": [
        "# importar o arquivo listings.csv da cidade de Nova York para um DataFrame\n",
        "df = pd.read_csv(\"http://data.insideairbnb.com/united-states/ny/new-york-city/2022-06-03/visualisations/listings.csv\")"
      ],
      "metadata": {
        "id": "ppSy8tFIzOy6"
      },
      "execution_count": null,
      "outputs": []
    },
    {
      "cell_type": "code",
      "source": [
        "df.head()"
      ],
      "metadata": {
        "colab": {
          "base_uri": "https://localhost:8080/",
          "height": 444
        },
        "id": "QHdC-1BNzbic",
        "outputId": "dec6ce41-f553-4fde-95b0-0ef914c1749d"
      },
      "execution_count": null,
      "outputs": [
        {
          "output_type": "execute_result",
          "data": {
            "text/plain": [
              "     id                                      name  host_id  host_name  \\\n",
              "0  2595                     Skylit Midtown Castle     2845   Jennifer   \n",
              "1  5121                           BlissArtsSpace!     7356      Garon   \n",
              "2  5136  Spacious Brooklyn Duplex, Patio + Garden     7378    Rebecca   \n",
              "3  5178          Large Furnished Room Near B'way　     8967   Shunichi   \n",
              "4  5203        Cozy Clean Guest Room - Family Apt     7490  MaryEllen   \n",
              "\n",
              "  neighbourhood_group       neighbourhood  latitude  longitude  \\\n",
              "0           Manhattan             Midtown  40.75356  -73.98559   \n",
              "1            Brooklyn  Bedford-Stuyvesant  40.68535  -73.95512   \n",
              "2            Brooklyn         Sunset Park  40.66265  -73.99454   \n",
              "3           Manhattan             Midtown  40.76457  -73.98317   \n",
              "4           Manhattan     Upper West Side  40.80380  -73.96751   \n",
              "\n",
              "         room_type  price  minimum_nights  number_of_reviews last_review  \\\n",
              "0  Entire home/apt    225              30                 48  2019-11-04   \n",
              "1     Private room     60              30                 50  2019-12-02   \n",
              "2  Entire home/apt    275              21                  2  2021-08-08   \n",
              "3     Private room     68               2                536  2022-05-09   \n",
              "4     Private room     75               2                118  2017-07-21   \n",
              "\n",
              "   reviews_per_month  calculated_host_listings_count  availability_365  \\\n",
              "0               0.31                               3               308   \n",
              "1               0.32                               2               365   \n",
              "2               0.02                               1               250   \n",
              "3               3.37                               1               172   \n",
              "4               0.76                               1                 0   \n",
              "\n",
              "   number_of_reviews_ltm license  \n",
              "0                      0     NaN  \n",
              "1                      0     NaN  \n",
              "2                      1     NaN  \n",
              "3                     62     NaN  \n",
              "4                      0     NaN  "
            ],
            "text/html": [
              "\n",
              "  <div id=\"df-04e3875a-60e8-44c2-a711-fea08195ea77\">\n",
              "    <div class=\"colab-df-container\">\n",
              "      <div>\n",
              "<style scoped>\n",
              "    .dataframe tbody tr th:only-of-type {\n",
              "        vertical-align: middle;\n",
              "    }\n",
              "\n",
              "    .dataframe tbody tr th {\n",
              "        vertical-align: top;\n",
              "    }\n",
              "\n",
              "    .dataframe thead th {\n",
              "        text-align: right;\n",
              "    }\n",
              "</style>\n",
              "<table border=\"1\" class=\"dataframe\">\n",
              "  <thead>\n",
              "    <tr style=\"text-align: right;\">\n",
              "      <th></th>\n",
              "      <th>id</th>\n",
              "      <th>name</th>\n",
              "      <th>host_id</th>\n",
              "      <th>host_name</th>\n",
              "      <th>neighbourhood_group</th>\n",
              "      <th>neighbourhood</th>\n",
              "      <th>latitude</th>\n",
              "      <th>longitude</th>\n",
              "      <th>room_type</th>\n",
              "      <th>price</th>\n",
              "      <th>minimum_nights</th>\n",
              "      <th>number_of_reviews</th>\n",
              "      <th>last_review</th>\n",
              "      <th>reviews_per_month</th>\n",
              "      <th>calculated_host_listings_count</th>\n",
              "      <th>availability_365</th>\n",
              "      <th>number_of_reviews_ltm</th>\n",
              "      <th>license</th>\n",
              "    </tr>\n",
              "  </thead>\n",
              "  <tbody>\n",
              "    <tr>\n",
              "      <th>0</th>\n",
              "      <td>2595</td>\n",
              "      <td>Skylit Midtown Castle</td>\n",
              "      <td>2845</td>\n",
              "      <td>Jennifer</td>\n",
              "      <td>Manhattan</td>\n",
              "      <td>Midtown</td>\n",
              "      <td>40.75356</td>\n",
              "      <td>-73.98559</td>\n",
              "      <td>Entire home/apt</td>\n",
              "      <td>225</td>\n",
              "      <td>30</td>\n",
              "      <td>48</td>\n",
              "      <td>2019-11-04</td>\n",
              "      <td>0.31</td>\n",
              "      <td>3</td>\n",
              "      <td>308</td>\n",
              "      <td>0</td>\n",
              "      <td>NaN</td>\n",
              "    </tr>\n",
              "    <tr>\n",
              "      <th>1</th>\n",
              "      <td>5121</td>\n",
              "      <td>BlissArtsSpace!</td>\n",
              "      <td>7356</td>\n",
              "      <td>Garon</td>\n",
              "      <td>Brooklyn</td>\n",
              "      <td>Bedford-Stuyvesant</td>\n",
              "      <td>40.68535</td>\n",
              "      <td>-73.95512</td>\n",
              "      <td>Private room</td>\n",
              "      <td>60</td>\n",
              "      <td>30</td>\n",
              "      <td>50</td>\n",
              "      <td>2019-12-02</td>\n",
              "      <td>0.32</td>\n",
              "      <td>2</td>\n",
              "      <td>365</td>\n",
              "      <td>0</td>\n",
              "      <td>NaN</td>\n",
              "    </tr>\n",
              "    <tr>\n",
              "      <th>2</th>\n",
              "      <td>5136</td>\n",
              "      <td>Spacious Brooklyn Duplex, Patio + Garden</td>\n",
              "      <td>7378</td>\n",
              "      <td>Rebecca</td>\n",
              "      <td>Brooklyn</td>\n",
              "      <td>Sunset Park</td>\n",
              "      <td>40.66265</td>\n",
              "      <td>-73.99454</td>\n",
              "      <td>Entire home/apt</td>\n",
              "      <td>275</td>\n",
              "      <td>21</td>\n",
              "      <td>2</td>\n",
              "      <td>2021-08-08</td>\n",
              "      <td>0.02</td>\n",
              "      <td>1</td>\n",
              "      <td>250</td>\n",
              "      <td>1</td>\n",
              "      <td>NaN</td>\n",
              "    </tr>\n",
              "    <tr>\n",
              "      <th>3</th>\n",
              "      <td>5178</td>\n",
              "      <td>Large Furnished Room Near B'way</td>\n",
              "      <td>8967</td>\n",
              "      <td>Shunichi</td>\n",
              "      <td>Manhattan</td>\n",
              "      <td>Midtown</td>\n",
              "      <td>40.76457</td>\n",
              "      <td>-73.98317</td>\n",
              "      <td>Private room</td>\n",
              "      <td>68</td>\n",
              "      <td>2</td>\n",
              "      <td>536</td>\n",
              "      <td>2022-05-09</td>\n",
              "      <td>3.37</td>\n",
              "      <td>1</td>\n",
              "      <td>172</td>\n",
              "      <td>62</td>\n",
              "      <td>NaN</td>\n",
              "    </tr>\n",
              "    <tr>\n",
              "      <th>4</th>\n",
              "      <td>5203</td>\n",
              "      <td>Cozy Clean Guest Room - Family Apt</td>\n",
              "      <td>7490</td>\n",
              "      <td>MaryEllen</td>\n",
              "      <td>Manhattan</td>\n",
              "      <td>Upper West Side</td>\n",
              "      <td>40.80380</td>\n",
              "      <td>-73.96751</td>\n",
              "      <td>Private room</td>\n",
              "      <td>75</td>\n",
              "      <td>2</td>\n",
              "      <td>118</td>\n",
              "      <td>2017-07-21</td>\n",
              "      <td>0.76</td>\n",
              "      <td>1</td>\n",
              "      <td>0</td>\n",
              "      <td>0</td>\n",
              "      <td>NaN</td>\n",
              "    </tr>\n",
              "  </tbody>\n",
              "</table>\n",
              "</div>\n",
              "      <button class=\"colab-df-convert\" onclick=\"convertToInteractive('df-04e3875a-60e8-44c2-a711-fea08195ea77')\"\n",
              "              title=\"Convert this dataframe to an interactive table.\"\n",
              "              style=\"display:none;\">\n",
              "        \n",
              "  <svg xmlns=\"http://www.w3.org/2000/svg\" height=\"24px\"viewBox=\"0 0 24 24\"\n",
              "       width=\"24px\">\n",
              "    <path d=\"M0 0h24v24H0V0z\" fill=\"none\"/>\n",
              "    <path d=\"M18.56 5.44l.94 2.06.94-2.06 2.06-.94-2.06-.94-.94-2.06-.94 2.06-2.06.94zm-11 1L8.5 8.5l.94-2.06 2.06-.94-2.06-.94L8.5 2.5l-.94 2.06-2.06.94zm10 10l.94 2.06.94-2.06 2.06-.94-2.06-.94-.94-2.06-.94 2.06-2.06.94z\"/><path d=\"M17.41 7.96l-1.37-1.37c-.4-.4-.92-.59-1.43-.59-.52 0-1.04.2-1.43.59L10.3 9.45l-7.72 7.72c-.78.78-.78 2.05 0 2.83L4 21.41c.39.39.9.59 1.41.59.51 0 1.02-.2 1.41-.59l7.78-7.78 2.81-2.81c.8-.78.8-2.07 0-2.86zM5.41 20L4 18.59l7.72-7.72 1.47 1.35L5.41 20z\"/>\n",
              "  </svg>\n",
              "      </button>\n",
              "      \n",
              "  <style>\n",
              "    .colab-df-container {\n",
              "      display:flex;\n",
              "      flex-wrap:wrap;\n",
              "      gap: 12px;\n",
              "    }\n",
              "\n",
              "    .colab-df-convert {\n",
              "      background-color: #E8F0FE;\n",
              "      border: none;\n",
              "      border-radius: 50%;\n",
              "      cursor: pointer;\n",
              "      display: none;\n",
              "      fill: #1967D2;\n",
              "      height: 32px;\n",
              "      padding: 0 0 0 0;\n",
              "      width: 32px;\n",
              "    }\n",
              "\n",
              "    .colab-df-convert:hover {\n",
              "      background-color: #E2EBFA;\n",
              "      box-shadow: 0px 1px 2px rgba(60, 64, 67, 0.3), 0px 1px 3px 1px rgba(60, 64, 67, 0.15);\n",
              "      fill: #174EA6;\n",
              "    }\n",
              "\n",
              "    [theme=dark] .colab-df-convert {\n",
              "      background-color: #3B4455;\n",
              "      fill: #D2E3FC;\n",
              "    }\n",
              "\n",
              "    [theme=dark] .colab-df-convert:hover {\n",
              "      background-color: #434B5C;\n",
              "      box-shadow: 0px 1px 3px 1px rgba(0, 0, 0, 0.15);\n",
              "      filter: drop-shadow(0px 1px 2px rgba(0, 0, 0, 0.3));\n",
              "      fill: #FFFFFF;\n",
              "    }\n",
              "  </style>\n",
              "\n",
              "      <script>\n",
              "        const buttonEl =\n",
              "          document.querySelector('#df-04e3875a-60e8-44c2-a711-fea08195ea77 button.colab-df-convert');\n",
              "        buttonEl.style.display =\n",
              "          google.colab.kernel.accessAllowed ? 'block' : 'none';\n",
              "\n",
              "        async function convertToInteractive(key) {\n",
              "          const element = document.querySelector('#df-04e3875a-60e8-44c2-a711-fea08195ea77');\n",
              "          const dataTable =\n",
              "            await google.colab.kernel.invokeFunction('convertToInteractive',\n",
              "                                                     [key], {});\n",
              "          if (!dataTable) return;\n",
              "\n",
              "          const docLinkHtml = 'Like what you see? Visit the ' +\n",
              "            '<a target=\"_blank\" href=https://colab.research.google.com/notebooks/data_table.ipynb>data table notebook</a>'\n",
              "            + ' to learn more about interactive tables.';\n",
              "          element.innerHTML = '';\n",
              "          dataTable['output_type'] = 'display_data';\n",
              "          await google.colab.output.renderOutput(dataTable, element);\n",
              "          const docLink = document.createElement('div');\n",
              "          docLink.innerHTML = docLinkHtml;\n",
              "          element.appendChild(docLink);\n",
              "        }\n",
              "      </script>\n",
              "    </div>\n",
              "  </div>\n",
              "  "
            ]
          },
          "metadata": {},
          "execution_count": 6
        }
      ]
    },
    {
      "cell_type": "markdown",
      "source": [
        "**Dicionário das variáveis**\n",
        "\n",
        "* `id` - número de id gerado para identificar o imóvel\n",
        "* `name` - nome da propriedade anunciada\n",
        "* `host_id` - número de id do proprietário (anfitrião) da propriedade\n",
        "* `host_name` - Nome do anfitrião\n",
        "* `neighbourhood_group` - Boroughs de Nova Iorque\n",
        "* `neighbourhood` - nome do bairro\n",
        "* `latitude` - coordenada da latitude da propriedade\n",
        "* `longitude` - coordenada da longitude da propriedade\n",
        "* `room_type` - informa o tipo de quarto que é oferecido\n",
        "* `price` - preço para alugar o imóvel por dia.\n",
        "* `minimum_nights` - quantidade mínima de noites para reservar\n",
        "* `number_of_reviews` - número de reviews que a propriedade possui\n",
        "* `last_review` - data do último review\n",
        "* `reviews_per_month` - quantidade de reviews por mês\n",
        "* `calculated_host_listings_count` - quantidade de imóveis do mesmo anfitrião\n",
        "* `availability_365` - número de dias de disponibilidade dentro de 365 dias\n"
      ],
      "metadata": {
        "id": "wURMpISmzRq_"
      }
    },
    {
      "cell_type": "markdown",
      "source": [
        "# O que pode ser Respondido com Estatística ?\n",
        "\n",
        "Com estatística, podemos responder a várias perguntas diferentes, como: \n",
        "\n",
        "- Qual a probabilidade de alguém comprar um produto? \n",
        "- As pessoas estão mais propensas a comprá-lo se puderem usar um sistema de pagamento diferente? \n",
        "- Quantos ocupantes seu hotel terá? \n",
        "- Como otimizar a ocupação? \n",
        "- Quantos tamanhos de jeans precisam ser fabricados para que caibam em 95% da população? \n",
        "- Deve ser produzido o mesmo número de cada tamanho? \n",
        "- Uma pergunta como: Qual anúncio é mais eficaz para levar as pessoas a comprar um produto? pode ser respondida com testes A/B."
      ],
      "metadata": {
        "id": "LM2LBWDkCcoo"
      }
    },
    {
      "cell_type": "markdown",
      "source": [
        "# O que as estatística não pode fazer?\n",
        "Embora estatística possa responder a muitas perguntas, é importante observar que a estatística não pode responder a todas as perguntas. Se quisermos saber por que a série de TV é tão popular, podemos perguntar a todos por que eles gostam, mas eles podem mentir ou deixar de fora os motivos. Podemos ver se séries com cenas mais violentas atraem mais espectadores, mas mesmo que o façam, não podemos saber se a violência em determinada série é o motivo de sua popularidade, ou se outros fatores estão impulsionando sua popularidade e se apenas passa a ser violento."
      ],
      "metadata": {
        "id": "sRidRdoeC8FZ"
      }
    },
    {
      "cell_type": "markdown",
      "source": [
        "# Medidas Centrais\n",
        "\n",
        "## Média\n",
        "A média, é uma das formas mais comuns de resumir dados. Para calcular a média, somamos todos os números de interesse e dividimos pelo número total de pontos de dados\n",
        "$$ avg =  \\dfrac{x_1 + \\dots + x_n}{n}$$\n",
        "\n",
        "\n",
        "Em Python, podemos usar a função média do NumPy, passando a variável de interesse."
      ],
      "metadata": {
        "id": "XzlcFNf6DaQI"
      }
    },
    {
      "cell_type": "code",
      "source": [
        "import numpy as np"
      ],
      "metadata": {
        "id": "WsMTRYISzPTY"
      },
      "execution_count": null,
      "outputs": []
    },
    {
      "cell_type": "code",
      "source": [
        "np.mean(df[\"price\"])"
      ],
      "metadata": {
        "colab": {
          "base_uri": "https://localhost:8080/"
        },
        "id": "HIpAdoDlJM9y",
        "outputId": "c5707ff9-dcc2-4213-8a84-582b52d2daf8"
      },
      "execution_count": null,
      "outputs": [
        {
          "output_type": "execute_result",
          "data": {
            "text/plain": [
              "190.77522052927026"
            ]
          },
          "metadata": {},
          "execution_count": 8
        }
      ]
    },
    {
      "cell_type": "code",
      "source": [
        "df.price.mean()"
      ],
      "metadata": {
        "colab": {
          "base_uri": "https://localhost:8080/"
        },
        "id": "SI6GiiV0CMZ2",
        "outputId": "893b3e2c-2d18-4e07-92f9-49164cc37191"
      },
      "execution_count": null,
      "outputs": [
        {
          "output_type": "execute_result",
          "data": {
            "text/plain": [
              "190.77522052927026"
            ]
          },
          "metadata": {},
          "execution_count": 9
        }
      ]
    },
    {
      "cell_type": "markdown",
      "source": [
        "## Mediana \n",
        "\n",
        "Outra medida de centro é a mediana. A mediana é o valor em que 50% dos dados é menor que ele e 50% dos dados é maior. Podemos calcular ordenando nossos pontos e pegando o do meio.\n",
        "\n",
        "$$ x_1, \\dots, x_i, \\dots, x_n $$ \n",
        "\n",
        "onde $x_1 < x_i < x_n$.\n",
        "\n",
        "\n",
        "\n",
        " Em Python, podemos usar `np.median()` para fazer os cálculos."
      ],
      "metadata": {
        "id": "glpfk67ZJd7I"
      }
    },
    {
      "cell_type": "code",
      "source": [
        "# Ordenar os dados\n",
        "df.price.sort_values()"
      ],
      "metadata": {
        "colab": {
          "base_uri": "https://localhost:8080/"
        },
        "id": "vQT1fl_iJX8G",
        "outputId": "14a69fd0-a4b1-4789-bfc6-3d0bc2bcf193"
      },
      "execution_count": null,
      "outputs": [
        {
          "output_type": "execute_result",
          "data": {
            "text/plain": [
              "24327        0\n",
              "21897        0\n",
              "22761        0\n",
              "25592        0\n",
              "22700        0\n",
              "         ...  \n",
              "20187    10000\n",
              "20184    10000\n",
              "30265    10000\n",
              "20182    10000\n",
              "19583    12900\n",
              "Name: price, Length: 37410, dtype: int64"
            ]
          },
          "metadata": {},
          "execution_count": 10
        }
      ]
    },
    {
      "cell_type": "code",
      "source": [
        "np.median(df.price)"
      ],
      "metadata": {
        "colab": {
          "base_uri": "https://localhost:8080/"
        },
        "id": "8hzuzWXuKWzG",
        "outputId": "b68aa403-f397-43db-ae67-16b53ca87af4"
      },
      "execution_count": null,
      "outputs": [
        {
          "output_type": "execute_result",
          "data": {
            "text/plain": [
              "125.0"
            ]
          },
          "metadata": {},
          "execution_count": 11
        }
      ]
    },
    {
      "cell_type": "code",
      "source": [
        "df.price.median()"
      ],
      "metadata": {
        "colab": {
          "base_uri": "https://localhost:8080/"
        },
        "id": "cQ2EjmGnPgm2",
        "outputId": "ec54771e-c31e-40a8-be79-be12d26db58c"
      },
      "execution_count": null,
      "outputs": [
        {
          "output_type": "execute_result",
          "data": {
            "text/plain": [
              "125.0"
            ]
          },
          "metadata": {},
          "execution_count": 12
        }
      ]
    },
    {
      "cell_type": "markdown",
      "source": [
        "## Moda \n",
        "\n",
        "A moda é o valor mais frequente nos dados. Se contarmos quantas ocorrências existem de cada valor da variável `minimum_nights` e ordenarmos em ordem descendente, teremos que o valor da moda é 30.\n",
        "\n",
        "Também podemos encontrar usando a função `mode()` da biblioteca `statistics`."
      ],
      "metadata": {
        "id": "AHWoC4hPKmwu"
      }
    },
    {
      "cell_type": "code",
      "source": [
        "df.minimum_nights.value_counts()"
      ],
      "metadata": {
        "colab": {
          "base_uri": "https://localhost:8080/"
        },
        "id": "AYckhFPSKccW",
        "outputId": "076a4fc0-82d6-454d-f746-d4ef5361dc15"
      },
      "execution_count": null,
      "outputs": [
        {
          "output_type": "execute_result",
          "data": {
            "text/plain": [
              "30     17287\n",
              "1       5856\n",
              "2       4463\n",
              "3       3189\n",
              "5       1277\n",
              "       ...  \n",
              "53         1\n",
              "198        1\n",
              "114        1\n",
              "119        1\n",
              "121        1\n",
              "Name: minimum_nights, Length: 122, dtype: int64"
            ]
          },
          "metadata": {},
          "execution_count": 13
        }
      ]
    },
    {
      "cell_type": "code",
      "source": [
        "import statistics\n",
        "statistics.mode(df.minimum_nights)"
      ],
      "metadata": {
        "colab": {
          "base_uri": "https://localhost:8080/"
        },
        "id": "Uzx9zWXuLB33",
        "outputId": "5f2124c8-70f6-4204-ad24-434be9a005df"
      },
      "execution_count": null,
      "outputs": [
        {
          "output_type": "execute_result",
          "data": {
            "text/plain": [
              "30"
            ]
          },
          "metadata": {},
          "execution_count": 14
        }
      ]
    },
    {
      "cell_type": "markdown",
      "source": [
        "A moda é comumente usada em variáveis categóricas."
      ],
      "metadata": {
        "id": "WFDkMMfvLhBq"
      }
    },
    {
      "cell_type": "code",
      "source": [
        "statistics.mode(df.neighbourhood_group)"
      ],
      "metadata": {
        "colab": {
          "base_uri": "https://localhost:8080/",
          "height": 35
        },
        "id": "s4qbDExuLdQS",
        "outputId": "d66e6687-b458-45d5-8443-761f621dc391"
      },
      "execution_count": null,
      "outputs": [
        {
          "output_type": "execute_result",
          "data": {
            "text/plain": [
              "'Manhattan'"
            ],
            "application/vnd.google.colaboratory.intrinsic+json": {
              "type": "string"
            }
          },
          "metadata": {},
          "execution_count": 15
        }
      ]
    },
    {
      "cell_type": "markdown",
      "source": [
        "# Agora que temos muitas maneiras de medir o centro, como sabemos qual usar?"
      ],
      "metadata": {
        "id": "pH_B15YBMAmx"
      }
    },
    {
      "cell_type": "code",
      "source": [
        "df[df.neighbourhood_group == 'Manhattan'][\"price\"].agg([np.mean, np.median])"
      ],
      "metadata": {
        "colab": {
          "base_uri": "https://localhost:8080/"
        },
        "id": "qho6wafsLr4d",
        "outputId": "465cf16c-0c5e-4581-f81d-5ebea6914051"
      },
      "execution_count": null,
      "outputs": [
        {
          "output_type": "execute_result",
          "data": {
            "text/plain": [
              "mean      257.813119\n",
              "median    170.000000\n",
              "Name: price, dtype: float64"
            ]
          },
          "metadata": {},
          "execution_count": 16
        }
      ]
    },
    {
      "cell_type": "code",
      "source": [
        "df_copy = df.copy()"
      ],
      "metadata": {
        "id": "rUK_ARHOMaQb"
      },
      "execution_count": null,
      "outputs": []
    },
    {
      "cell_type": "code",
      "source": [
        "df_copy.loc[df_copy.shape[0]] = [5203,\t\"Cozy\" ,\"Clean Guest Room - Family Apt\t7490\"\t,\"MaryEllen\"\t,\"Manhattan\"\t,\"Upper West Side\",\t40.80380\t,-73.96751,\t\"Private room\"\t,5000 ,\t2\t,118,\t\"2017-07-21\"\t, \" \"\t,\t\" \",\" \"\t,\" \", \" \"\t]"
      ],
      "metadata": {
        "id": "Ey0j6fosMqSQ"
      },
      "execution_count": null,
      "outputs": []
    },
    {
      "cell_type": "code",
      "source": [
        "df_copy[df_copy.neighbourhood_group == 'Manhattan'][\"price\"].agg([np.mean, np.median])"
      ],
      "metadata": {
        "colab": {
          "base_uri": "https://localhost:8080/"
        },
        "id": "FGRvoIHlNvtB",
        "outputId": "93ac15e9-3e40-4538-fb9a-d514717b592a"
      },
      "execution_count": null,
      "outputs": [
        {
          "output_type": "execute_result",
          "data": {
            "text/plain": [
              "mean      258.112197\n",
              "median    170.000000\n",
              "Name: price, dtype: float64"
            ]
          },
          "metadata": {},
          "execution_count": 19
        }
      ]
    },
    {
      "cell_type": "markdown",
      "source": [
        "Isso ocorre porque a média é muito mais sensível a valores extremos do que a mediana.\n",
        "\n",
        "Como a média é mais sensível a valores extremos, ela funciona melhor para dados simétricos como esse. Observe que a média, em preto, e a mediana, em vermelho, são bem próximas."
      ],
      "metadata": {
        "id": "sfUJCFxPO8sR"
      }
    },
    {
      "cell_type": "code",
      "source": [
        "from matplotlib.ticker import StrMethodFormatter"
      ],
      "metadata": {
        "id": "7vkFZKFvOsjP"
      },
      "execution_count": null,
      "outputs": []
    },
    {
      "cell_type": "code",
      "source": [
        "def histogram(df, column):  \n",
        "  ax = df.hist(column=column, bins=10, grid=False, figsize=(12,8), color='#aebfd7', zorder=2, rwidth=0.9)\n",
        "  plt.axvline(df[column].mean(), color='b', linestyle='dashed', linewidth=1)\n",
        "  #plt.axvline(df[column].std(), color='r', linestyle='dashed', linewidth=1)\n",
        "  plt.axvline(df[column].median(), color='r', linestyle='dashed', linewidth=1)\n",
        "  min_ylim, max_ylim = plt.ylim()\n",
        "  plt.text(df[column].mean()*1.1, max_ylim*0.9, 'Média: {:.2f}'.format(df[column].mean()))\n",
        "  #plt.text(df[column].std()*1.1, max_ylim*0.85, 'Std: {:.2f}'.format(df[column].std()))\n",
        "  plt.text(df[column].median()*1.1, max_ylim*0.85, 'Mediana: {:.2f}'.format(df[column].median()))\n",
        "  ax = ax[0]\n",
        "  for x in ax:\n",
        "\n",
        "      # Despine\n",
        "      x.spines['right'].set_visible(False)\n",
        "      x.spines['top'].set_visible(False)\n",
        "      x.spines['left'].set_visible(False)\n",
        "\n",
        "      # Switch off ticks\n",
        "      x.tick_params(axis=\"both\", which=\"both\", bottom=\"off\", top=\"off\", labelbottom=\"on\", left=\"off\", right=\"off\", labelleft=\"on\")\n",
        "\n",
        "      # Draw horizontal axis lines\n",
        "      vals = x.get_yticks()\n",
        "      for tick in vals:\n",
        "          x.axhline(y=tick, linestyle='dashed', alpha=0.4, color='#eeeeee', zorder=1)\n",
        "\n",
        "      # Remove title\n",
        "      x.set_title(\"\")\n",
        "\n",
        "      # Set x-axis label\n",
        "      x.set_xlabel(\"Numero de Ocorrências\", labelpad=20, weight='bold', size=12)\n",
        "\n",
        "      # Set y-axis label\n",
        "      x.set_ylabel(\"Frequencia\", labelpad=20, weight='bold', size=12)\n",
        "      \n",
        "      # Format y-axis label\n",
        "      x.yaxis.set_major_formatter(StrMethodFormatter('{x:,g}'))\n",
        "  plt.show()"
      ],
      "metadata": {
        "id": "iRANl4eTBCc-"
      },
      "execution_count": null,
      "outputs": []
    },
    {
      "cell_type": "code",
      "source": [
        "histogram(df,\"latitude\")"
      ],
      "metadata": {
        "colab": {
          "base_uri": "https://localhost:8080/",
          "height": 536
        },
        "id": "w95NI9XAPtfM",
        "outputId": "023b114c-505a-4239-c305-98760f8d2e39"
      },
      "execution_count": null,
      "outputs": [
        {
          "output_type": "display_data",
          "data": {
            "text/plain": [
              "<Figure size 864x576 with 1 Axes>"
            ],
            "image/png": "[encoded data removed]"
          },
          "metadata": {
            "needs_background": "light"
          }
        }
      ]
    },
    {
      "cell_type": "markdown",
      "source": [
        "No entanto, se os dados estiverem distorcidos, o que significa que não são simétricos, como este, geralmente é melhor usar a mediana. Neste histograma, os dados são empilhados à direita, com uma cauda à esquerda. Dados que se parecem com isso são chamados de dados assimétricos à esquerda. Quando os dados são empilhados à esquerda com uma cauda à direita, eles são distorcidos à direita."
      ],
      "metadata": {
        "id": "Bm5OBhH5QkzN"
      }
    },
    {
      "cell_type": "code",
      "source": [
        "histogram(df[df.number_of_reviews < 200],\"number_of_reviews\")"
      ],
      "metadata": {
        "colab": {
          "base_uri": "https://localhost:8080/",
          "height": 516
        },
        "id": "BSMjzBpjP4cY",
        "outputId": "2e4eb551-91c9-471e-9b71-22b8937681ee"
      },
      "execution_count": null,
      "outputs": [
        {
          "output_type": "display_data",
          "data": {
            "text/plain": [
              "<Figure size 864x576 with 1 Axes>"
            ],
            "image/png": "[encoded data removed]"
          },
          "metadata": {
            "needs_background": "light"
          }
        }
      ]
    },
    {
      "cell_type": "markdown",
      "source": [
        "# Medidas de Dispersão\n",
        "\n",
        "Dispersão(Spread) é exatamente o que parece - descreve o quão dispersos ou próximos estão os dados. Assim como as medidas de centro, existem algumas medidas diferentes de Dispersão."
      ],
      "metadata": {
        "id": "bA6VEAYxguBU"
      }
    },
    {
      "cell_type": "markdown",
      "source": [
        "# Variância\n",
        "A primeira medida, variância, mede a distância média de cada ponto de dados até a média dos dados.\n",
        "\n",
        "## Calculando a variação\n",
        "Para calcular a variância, começamos calculando a distância entre cada ponto e a média, de modo que obtemos um número para cada ponto de dados. Em seguida, elevamos ao quadrado cada distância e, em seguida, adicione-os todos juntos. Finalmente, dividimos a soma das distâncias ao quadrado pelo número de pontos de dados menos 1, dando-nos a variância.\n",
        "\n",
        "$$ var = \\dfrac{1}{n-1} ∑^n_{i=1} (\\bar x - x_i)^2$$\n",
        "\n"
      ],
      "metadata": {
        "id": "2IcmlhTvhBac"
      }
    },
    {
      "cell_type": "code",
      "source": [
        "dists = df.price - np.mean(df.price)"
      ],
      "metadata": {
        "id": "8174w--9QtQ7"
      },
      "execution_count": null,
      "outputs": []
    },
    {
      "cell_type": "code",
      "source": [
        "sq_dist = dists**2"
      ],
      "metadata": {
        "id": "0_3qByWGiFl5"
      },
      "execution_count": null,
      "outputs": []
    },
    {
      "cell_type": "code",
      "source": [
        "sum_dist = np.sum(sq_dist)"
      ],
      "metadata": {
        "id": "a6sti7muiM-D"
      },
      "execution_count": null,
      "outputs": []
    },
    {
      "cell_type": "code",
      "source": [
        "var_price = sum_dist/(df.shape[0] -1)"
      ],
      "metadata": {
        "id": "R36bnpcziVWF"
      },
      "execution_count": null,
      "outputs": []
    },
    {
      "cell_type": "code",
      "source": [
        "var_price"
      ],
      "metadata": {
        "colab": {
          "base_uri": "https://localhost:8080/"
        },
        "id": "6G_-hdCCibzP",
        "outputId": "721d2705-50b7-4157-b7c4-95d772aaefbe"
      },
      "execution_count": null,
      "outputs": [
        {
          "output_type": "execute_result",
          "data": {
            "text/plain": [
              "117300.59752544656"
            ]
          },
          "metadata": {},
          "execution_count": 29
        }
      ]
    },
    {
      "cell_type": "code",
      "source": [
        "#df.price.var()\n",
        "## ddof = 1 indica que é a variância da amostra\n",
        "np.var(df.price, ddof=1)"
      ],
      "metadata": {
        "colab": {
          "base_uri": "https://localhost:8080/"
        },
        "id": "ypF3OfU8idRH",
        "outputId": "5a6ca9ee-a9dd-45ec-9945-716967576c63"
      },
      "execution_count": null,
      "outputs": [
        {
          "output_type": "execute_result",
          "data": {
            "text/plain": [
              "117300.59752544656"
            ]
          },
          "metadata": {},
          "execution_count": 30
        }
      ]
    },
    {
      "cell_type": "markdown",
      "source": [
        "\n",
        "Quanto maior a variância, mais dispersos são os dados. \n",
        "\n",
        "É importante observar que as unidades de variância são elevadas ao quadrado, portanto, neste caso, são 117300.59 price ao quadrado.\n",
        "\n",
        "#Desvio padrão\n",
        "O desvio padrão é outra medida de dispersão, calculada pela raiz quadrada da variância. Pode ser calculado usando `np.std()`.\n"
      ],
      "metadata": {
        "id": "hwaokNiCh7Io"
      }
    },
    {
      "cell_type": "code",
      "source": [
        "np.sqrt((np.var(df.price, ddof=1)))"
      ],
      "metadata": {
        "colab": {
          "base_uri": "https://localhost:8080/"
        },
        "id": "XKfCn9UTjOZe",
        "outputId": "542b8586-871d-4d44-8286-e1a55fa7c9c7"
      },
      "execution_count": null,
      "outputs": [
        {
          "output_type": "execute_result",
          "data": {
            "text/plain": [
              "342.491748112924"
            ]
          },
          "metadata": {},
          "execution_count": 31
        }
      ]
    },
    {
      "cell_type": "code",
      "source": [
        "np.std(df.price, ddof=1)"
      ],
      "metadata": {
        "colab": {
          "base_uri": "https://localhost:8080/"
        },
        "id": "Rn-aeWHbimOY",
        "outputId": "e995401f-98a5-4701-8af5-b4b8ef0beddb"
      },
      "execution_count": null,
      "outputs": [
        {
          "output_type": "execute_result",
          "data": {
            "text/plain": [
              "342.491748112924"
            ]
          },
          "metadata": {},
          "execution_count": 32
        }
      ]
    },
    {
      "cell_type": "markdown",
      "source": [
        "O bom do desvio padrão é que as unidades geralmente são mais fáceis de entender, pois não são quadradas."
      ],
      "metadata": {
        "id": "_F6TrZVljJwF"
      }
    },
    {
      "cell_type": "markdown",
      "source": [
        "# Desvio médio absoluto\n",
        "O desvio absoluto médio obtém o valor absoluto das distâncias à média e, em seguida, obtém a média dessas diferenças. "
      ],
      "metadata": {
        "id": "AamJhkFt0aGw"
      }
    },
    {
      "cell_type": "code",
      "source": [
        "dists = df.price - np.mean(df.price)"
      ],
      "metadata": {
        "id": "PRvfk2MTjKJh"
      },
      "execution_count": null,
      "outputs": []
    },
    {
      "cell_type": "code",
      "source": [
        "np.mean(np.abs(dists))"
      ],
      "metadata": {
        "id": "hnv2rE850tkP",
        "colab": {
          "base_uri": "https://localhost:8080/"
        },
        "outputId": "704b9cef-d574-4f8b-a136-ddc72b2ca596"
      },
      "execution_count": null,
      "outputs": [
        {
          "output_type": "execute_result",
          "data": {
            "text/plain": [
              "129.21380316984232"
            ]
          },
          "metadata": {},
          "execution_count": 34
        }
      ]
    },
    {
      "cell_type": "markdown",
      "source": [
        "Embora isso seja semelhante ao desvio padrão, não é exatamente o mesmo. O desvio padrão eleva as distâncias ao quadrado, de modo que as distâncias mais longas são mais penalizadas do que as mais curtas, enquanto o desvio absoluto médio penaliza cada distância igualmente. Um não é melhor que o outro, mas SD é mais comum que MAD."
      ],
      "metadata": {
        "id": "DD3GgTWY08pO"
      }
    },
    {
      "cell_type": "markdown",
      "source": [
        "# Quantil\n",
        "Os quantis, também chamados de percentis, dividem os dados em algumas partes iguais. Aqui, chamamos `np.quantil()`, passando na coluna de interesse, seguido pelo 0.5.  Isso nos diz que 50% dos dados do conjunto estão abaixo desse valor, e os outros 50% estão acima, então este é exatamente o igual à mediana. "
      ],
      "metadata": {
        "id": "iEmf0iam1XW-"
      }
    },
    {
      "cell_type": "code",
      "source": [
        "np.quantile(df.price, 0.5)"
      ],
      "metadata": {
        "id": "MNcOJ2wL1v8y",
        "colab": {
          "base_uri": "https://localhost:8080/"
        },
        "outputId": "4c87a201-725f-44d9-96bf-9f813470c7de"
      },
      "execution_count": null,
      "outputs": [
        {
          "output_type": "execute_result",
          "data": {
            "text/plain": [
              "125.0"
            ]
          },
          "metadata": {},
          "execution_count": 35
        }
      ]
    },
    {
      "cell_type": "markdown",
      "source": [
        "Também podemos passar uma lista de números para obter vários quantis de uma só vez. Aqui, dividimos os dados em 4 partes iguais. "
      ],
      "metadata": {
        "id": "aaz5EoCO1wtw"
      }
    },
    {
      "cell_type": "code",
      "source": [
        "np.quantile(df.price, [0, 0.25, 0.5, 0.75, 1])"
      ],
      "metadata": {
        "id": "KyxInVXI1xAp",
        "colab": {
          "base_uri": "https://localhost:8080/"
        },
        "outputId": "bf5a0e38-aae0-4494-93b7-22c5a04db304"
      },
      "execution_count": null,
      "outputs": [
        {
          "output_type": "execute_result",
          "data": {
            "text/plain": [
              "array([    0.,    75.,   125.,   203., 12900.])"
            ]
          },
          "metadata": {},
          "execution_count": 36
        }
      ]
    },
    {
      "cell_type": "code",
      "source": [
        "#Quantiles usando linespace\n",
        "#ponto de começo, pronto final e número de intervalos\n",
        "np.quantile(df.price, np.linspace(0,1,5))"
      ],
      "metadata": {
        "id": "kNLm9zbQ3KaD",
        "colab": {
          "base_uri": "https://localhost:8080/"
        },
        "outputId": "baaa7dda-fa87-4f04-a083-43016eb0556c"
      },
      "execution_count": null,
      "outputs": [
        {
          "output_type": "execute_result",
          "data": {
            "text/plain": [
              "array([    0.,    75.,   125.,   203., 12900.])"
            ]
          },
          "metadata": {},
          "execution_count": 38
        }
      ]
    },
    {
      "cell_type": "markdown",
      "source": [
        "# Box-Plot\n",
        "\n",
        "<img alt=\"Colaboratory logo\" width=\"75%\" src=\"https://i.postimg.cc/y85xCH3B/box-plot.png\">\n",
        "\n",
        "\n",
        "As caixas em box plots representam os quartis. A parte inferior da caixa é o primeiro quartil e a parte superior da caixa é o terceiro quartil. A linha do meio é o segundo quartil ou a mediana."
      ],
      "metadata": {
        "id": "AIgMsQOv2IPD"
      }
    },
    {
      "cell_type": "code",
      "source": [
        "#Plotar um boxplot\n",
        "df.boxplot(['minimum_nights', 'price'], vert=False, figsize=(15,3))\n",
        "plt.show()"
      ],
      "metadata": {
        "id": "eLgv3X147Iow",
        "colab": {
          "base_uri": "https://localhost:8080/",
          "height": 211
        },
        "outputId": "6664b51d-bf48-4b39-e0d9-65175029ff53"
      },
      "execution_count": null,
      "outputs": [
        {
          "output_type": "display_data",
          "data": {
            "text/plain": [
              "<Figure size 1080x216 with 1 Axes>"
            ],
            "image/png": "[encoded data removed]"
          },
          "metadata": {
            "needs_background": "light"
          }
        }
      ]
    },
    {
      "cell_type": "markdown",
      "source": [
        "# intervalo interquartil (IQR)\n",
        "O intervalo interquartil, ou IQR, é outra medida de propagação. É a distância entre o percentil 25 e 75, que também é a altura da caixa em um boxplot. Podemos calculá-lo usando a função quantil ou usando a função IQR de `scipy.stats()`."
      ],
      "metadata": {
        "id": "WG8svPRg3pE8"
      }
    },
    {
      "cell_type": "code",
      "source": [
        "iqr = np.quantile(df[\"price\"], 0.75) - np.quantile(df.price, 0.25)"
      ],
      "metadata": {
        "id": "1T_UBjcR3DA_"
      },
      "execution_count": null,
      "outputs": []
    },
    {
      "cell_type": "code",
      "source": [
        "from scipy import iqr"
      ],
      "metadata": {
        "id": "4DN9n8Yc3-s1",
        "colab": {
          "base_uri": "https://localhost:8080/",
          "height": 305
        },
        "outputId": "ccc87373-0b57-4052-e1e3-52da497d8d1a"
      },
      "execution_count": null,
      "outputs": [
        {
          "output_type": "error",
          "ename": "ImportError",
          "evalue": "ignored",
          "traceback": [
            "\u001b[0;31m---------------------------------------------------------------------------\u001b[0m",
            "\u001b[0;31mImportError\u001b[0m                               Traceback (most recent call last)",
            "\u001b[0;32m<ipython-input-48-65ce98ecc158>\u001b[0m in \u001b[0;36m<module>\u001b[0;34m()\u001b[0m\n\u001b[0;32m----> 1\u001b[0;31m \u001b[0;32mfrom\u001b[0m \u001b[0mscipy\u001b[0m \u001b[0;32mimport\u001b[0m \u001b[0miqr\u001b[0m\u001b[0;34m\u001b[0m\u001b[0;34m\u001b[0m\u001b[0m\n\u001b[0m",
            "\u001b[0;31mImportError\u001b[0m: cannot import name 'iqr' from 'scipy' (/usr/local/lib/python3.7/dist-packages/scipy/__init__.py)",
            "",
            "\u001b[0;31m---------------------------------------------------------------------------\u001b[0;32m\nNOTE: If your import is failing due to a missing package, you can\nmanually install dependencies using either !pip or !apt.\n\nTo view examples of installing some common dependencies, click the\n\"Open Examples\" button below.\n\u001b[0;31m---------------------------------------------------------------------------\u001b[0m\n"
          ],
          "errorDetails": {
            "actions": [
              {
                "action": "open_url",
                "actionText": "Open Examples",
                "url": "/notebooks/snippets/importing_libraries.ipynb"
              }
            ]
          }
        }
      ]
    },
    {
      "cell_type": "code",
      "source": [
        "iqr(df.price)"
      ],
      "metadata": {
        "colab": {
          "base_uri": "https://localhost:8080/",
          "height": 166
        },
        "id": "3YWEaQEbGGWG",
        "outputId": "89ccde94-d96e-4c51-af9c-a78f0913f41d"
      },
      "execution_count": null,
      "outputs": [
        {
          "output_type": "error",
          "ename": "AttributeError",
          "evalue": "ignored",
          "traceback": [
            "\u001b[0;31m---------------------------------------------------------------------------\u001b[0m",
            "\u001b[0;31mAttributeError\u001b[0m                            Traceback (most recent call last)",
            "\u001b[0;32m<ipython-input-44-862f19ed55fe>\u001b[0m in \u001b[0;36m<module>\u001b[0;34m()\u001b[0m\n\u001b[0;32m----> 1\u001b[0;31m \u001b[0mscipy\u001b[0m\u001b[0;34m.\u001b[0m\u001b[0miqr\u001b[0m\u001b[0;34m(\u001b[0m\u001b[0mdf\u001b[0m\u001b[0;34m.\u001b[0m\u001b[0mprice\u001b[0m\u001b[0;34m)\u001b[0m\u001b[0;34m\u001b[0m\u001b[0;34m\u001b[0m\u001b[0m\n\u001b[0m",
            "\u001b[0;31mAttributeError\u001b[0m: module 'scipy' has no attribute 'iqr'"
          ]
        }
      ]
    },
    {
      "cell_type": "markdown",
      "source": [
        "# Outliers\n",
        "Outliers são pontos de dados que são substancialmente diferentes dos outros. Mas como sabemos o que é uma diferença substancial? \n",
        "\n",
        "Uma regra que é frequentemente usada é:\n",
        "\n",
        "- Qualquer ponto de dados menor que o primeiro quartil menos 1.5 vezes o IQR ($ data < 1Q - 1.5*IQR $) é um valor discrepante, assim como qualquer ponto maior que o terceiro quartil mais 1.5 vezes o IQR ($ 3Q + 1.5*IQR > data$)."
      ],
      "metadata": {
        "id": "OvmS6RMZ4KOr"
      }
    },
    {
      "cell_type": "code",
      "source": [
        "#iqr = iqr(df.price)\n",
        "\n",
        "lim_inf = np.quantile(df.price, 0.25) - 1.5*iqr\n",
        "lim_sup = np.quantile(df.price, 0.75) + 1.5*iqr"
      ],
      "metadata": {
        "id": "w-K065KW6gVr"
      },
      "execution_count": null,
      "outputs": []
    },
    {
      "cell_type": "code",
      "source": [
        "print(lim_sup)"
      ],
      "metadata": {
        "colab": {
          "base_uri": "https://localhost:8080/"
        },
        "id": "l8QjOWC1G4jI",
        "outputId": "2fab7c23-f87c-4779-ba14-6ef418e40ee1"
      },
      "execution_count": null,
      "outputs": [
        {
          "output_type": "stream",
          "name": "stdout",
          "text": [
            "395.0\n"
          ]
        }
      ]
    },
    {
      "cell_type": "code",
      "source": [
        "df[(df[\"price\"] < lim_inf) | (df.price > lim_sup)].head()"
      ],
      "metadata": {
        "id": "gwvYUiTX6z2w",
        "colab": {
          "base_uri": "https://localhost:8080/",
          "height": 652
        },
        "outputId": "c5506b1e-2dcf-4d0b-d712-304c6e315d80"
      },
      "execution_count": null,
      "outputs": [
        {
          "output_type": "execute_result",
          "data": {
            "text/plain": [
              "         id                                               name  host_id  \\\n",
              "25    80684                Duplex w/ Terrace @ Box House Hotel   417504   \n",
              "60    15396                 Sunny & Spacious Chelsea Apartment    60278   \n",
              "77    16595  Full Floor Loft ~ Six Windows ~ Home Theater ~...    64522   \n",
              "90   103311                  2 BR w/ Terrace @ Box House Hotel   417504   \n",
              "123   23686  2000 SF 3br 2ba West Village outdoor living house    93790   \n",
              "\n",
              "               host_name neighbourhood_group neighbourhood  latitude  \\\n",
              "25   The Box House Hotel            Brooklyn    Greenpoint  40.73756   \n",
              "60                 Petra           Manhattan       Chelsea  40.74493   \n",
              "77                 Ariel            Brooklyn  Williamsburg  40.70920   \n",
              "90   The Box House Hotel            Brooklyn    Greenpoint  40.73778   \n",
              "123                  Ann           Manhattan  West Village  40.72961   \n",
              "\n",
              "     longitude        room_type  price  minimum_nights  number_of_reviews  \\\n",
              "25   -73.95350       Hotel room    529               3                 10   \n",
              "60   -73.99521  Entire home/apt    400              30                  5   \n",
              "77   -73.96641  Entire home/apt    500               1                229   \n",
              "90   -73.95366     Private room    785               3                  9   \n",
              "123  -74.00308  Entire home/apt    620               7                 54   \n",
              "\n",
              "    last_review  reviews_per_month  calculated_host_listings_count  \\\n",
              "25   2021-11-13               0.08                              30   \n",
              "60   2018-11-03               0.07                               1   \n",
              "77   2022-05-23               1.62                               2   \n",
              "90   2018-05-19               0.07                              30   \n",
              "123  2022-05-15               0.45                               2   \n",
              "\n",
              "     availability_365  number_of_reviews_ltm license  \n",
              "25                164                      2     NaN  \n",
              "60                 61                      0     NaN  \n",
              "77                364                     32     NaN  \n",
              "90                107                      0     NaN  \n",
              "123               228                      4     NaN  "
            ],
            "text/html": [
              "\n",
              "  <div id=\"df-aa9db9b4-e6ca-4b68-a469-52fce25dd2df\">\n",
              "    <div class=\"colab-df-container\">\n",
              "      <div>\n",
              "<style scoped>\n",
              "    .dataframe tbody tr th:only-of-type {\n",
              "        vertical-align: middle;\n",
              "    }\n",
              "\n",
              "    .dataframe tbody tr th {\n",
              "        vertical-align: top;\n",
              "    }\n",
              "\n",
              "    .dataframe thead th {\n",
              "        text-align: right;\n",
              "    }\n",
              "</style>\n",
              "<table border=\"1\" class=\"dataframe\">\n",
              "  <thead>\n",
              "    <tr style=\"text-align: right;\">\n",
              "      <th></th>\n",
              "      <th>id</th>\n",
              "      <th>name</th>\n",
              "      <th>host_id</th>\n",
              "      <th>host_name</th>\n",
              "      <th>neighbourhood_group</th>\n",
              "      <th>neighbourhood</th>\n",
              "      <th>latitude</th>\n",
              "      <th>longitude</th>\n",
              "      <th>room_type</th>\n",
              "      <th>price</th>\n",
              "      <th>minimum_nights</th>\n",
              "      <th>number_of_reviews</th>\n",
              "      <th>last_review</th>\n",
              "      <th>reviews_per_month</th>\n",
              "      <th>calculated_host_listings_count</th>\n",
              "      <th>availability_365</th>\n",
              "      <th>number_of_reviews_ltm</th>\n",
              "      <th>license</th>\n",
              "    </tr>\n",
              "  </thead>\n",
              "  <tbody>\n",
              "    <tr>\n",
              "      <th>25</th>\n",
              "      <td>80684</td>\n",
              "      <td>Duplex w/ Terrace @ Box House Hotel</td>\n",
              "      <td>417504</td>\n",
              "      <td>The Box House Hotel</td>\n",
              "      <td>Brooklyn</td>\n",
              "      <td>Greenpoint</td>\n",
              "      <td>40.73756</td>\n",
              "      <td>-73.95350</td>\n",
              "      <td>Hotel room</td>\n",
              "      <td>529</td>\n",
              "      <td>3</td>\n",
              "      <td>10</td>\n",
              "      <td>2021-11-13</td>\n",
              "      <td>0.08</td>\n",
              "      <td>30</td>\n",
              "      <td>164</td>\n",
              "      <td>2</td>\n",
              "      <td>NaN</td>\n",
              "    </tr>\n",
              "    <tr>\n",
              "      <th>60</th>\n",
              "      <td>15396</td>\n",
              "      <td>Sunny &amp; Spacious Chelsea Apartment</td>\n",
              "      <td>60278</td>\n",
              "      <td>Petra</td>\n",
              "      <td>Manhattan</td>\n",
              "      <td>Chelsea</td>\n",
              "      <td>40.74493</td>\n",
              "      <td>-73.99521</td>\n",
              "      <td>Entire home/apt</td>\n",
              "      <td>400</td>\n",
              "      <td>30</td>\n",
              "      <td>5</td>\n",
              "      <td>2018-11-03</td>\n",
              "      <td>0.07</td>\n",
              "      <td>1</td>\n",
              "      <td>61</td>\n",
              "      <td>0</td>\n",
              "      <td>NaN</td>\n",
              "    </tr>\n",
              "    <tr>\n",
              "      <th>77</th>\n",
              "      <td>16595</td>\n",
              "      <td>Full Floor Loft ~ Six Windows ~ Home Theater ~...</td>\n",
              "      <td>64522</td>\n",
              "      <td>Ariel</td>\n",
              "      <td>Brooklyn</td>\n",
              "      <td>Williamsburg</td>\n",
              "      <td>40.70920</td>\n",
              "      <td>-73.96641</td>\n",
              "      <td>Entire home/apt</td>\n",
              "      <td>500</td>\n",
              "      <td>1</td>\n",
              "      <td>229</td>\n",
              "      <td>2022-05-23</td>\n",
              "      <td>1.62</td>\n",
              "      <td>2</td>\n",
              "      <td>364</td>\n",
              "      <td>32</td>\n",
              "      <td>NaN</td>\n",
              "    </tr>\n",
              "    <tr>\n",
              "      <th>90</th>\n",
              "      <td>103311</td>\n",
              "      <td>2 BR w/ Terrace @ Box House Hotel</td>\n",
              "      <td>417504</td>\n",
              "      <td>The Box House Hotel</td>\n",
              "      <td>Brooklyn</td>\n",
              "      <td>Greenpoint</td>\n",
              "      <td>40.73778</td>\n",
              "      <td>-73.95366</td>\n",
              "      <td>Private room</td>\n",
              "      <td>785</td>\n",
              "      <td>3</td>\n",
              "      <td>9</td>\n",
              "      <td>2018-05-19</td>\n",
              "      <td>0.07</td>\n",
              "      <td>30</td>\n",
              "      <td>107</td>\n",
              "      <td>0</td>\n",
              "      <td>NaN</td>\n",
              "    </tr>\n",
              "    <tr>\n",
              "      <th>123</th>\n",
              "      <td>23686</td>\n",
              "      <td>2000 SF 3br 2ba West Village outdoor living house</td>\n",
              "      <td>93790</td>\n",
              "      <td>Ann</td>\n",
              "      <td>Manhattan</td>\n",
              "      <td>West Village</td>\n",
              "      <td>40.72961</td>\n",
              "      <td>-74.00308</td>\n",
              "      <td>Entire home/apt</td>\n",
              "      <td>620</td>\n",
              "      <td>7</td>\n",
              "      <td>54</td>\n",
              "      <td>2022-05-15</td>\n",
              "      <td>0.45</td>\n",
              "      <td>2</td>\n",
              "      <td>228</td>\n",
              "      <td>4</td>\n",
              "      <td>NaN</td>\n",
              "    </tr>\n",
              "  </tbody>\n",
              "</table>\n",
              "</div>\n",
              "      <button class=\"colab-df-convert\" onclick=\"convertToInteractive('df-aa9db9b4-e6ca-4b68-a469-52fce25dd2df')\"\n",
              "              title=\"Convert this dataframe to an interactive table.\"\n",
              "              style=\"display:none;\">\n",
              "        \n",
              "  <svg xmlns=\"http://www.w3.org/2000/svg\" height=\"24px\"viewBox=\"0 0 24 24\"\n",
              "       width=\"24px\">\n",
              "    <path d=\"M0 0h24v24H0V0z\" fill=\"none\"/>\n",
              "    <path d=\"M18.56 5.44l.94 2.06.94-2.06 2.06-.94-2.06-.94-.94-2.06-.94 2.06-2.06.94zm-11 1L8.5 8.5l.94-2.06 2.06-.94-2.06-.94L8.5 2.5l-.94 2.06-2.06.94zm10 10l.94 2.06.94-2.06 2.06-.94-2.06-.94-.94-2.06-.94 2.06-2.06.94z\"/><path d=\"M17.41 7.96l-1.37-1.37c-.4-.4-.92-.59-1.43-.59-.52 0-1.04.2-1.43.59L10.3 9.45l-7.72 7.72c-.78.78-.78 2.05 0 2.83L4 21.41c.39.39.9.59 1.41.59.51 0 1.02-.2 1.41-.59l7.78-7.78 2.81-2.81c.8-.78.8-2.07 0-2.86zM5.41 20L4 18.59l7.72-7.72 1.47 1.35L5.41 20z\"/>\n",
              "  </svg>\n",
              "      </button>\n",
              "      \n",
              "  <style>\n",
              "    .colab-df-container {\n",
              "      display:flex;\n",
              "      flex-wrap:wrap;\n",
              "      gap: 12px;\n",
              "    }\n",
              "\n",
              "    .colab-df-convert {\n",
              "      background-color: #E8F0FE;\n",
              "      border: none;\n",
              "      border-radius: 50%;\n",
              "      cursor: pointer;\n",
              "      display: none;\n",
              "      fill: #1967D2;\n",
              "      height: 32px;\n",
              "      padding: 0 0 0 0;\n",
              "      width: 32px;\n",
              "    }\n",
              "\n",
              "    .colab-df-convert:hover {\n",
              "      background-color: #E2EBFA;\n",
              "      box-shadow: 0px 1px 2px rgba(60, 64, 67, 0.3), 0px 1px 3px 1px rgba(60, 64, 67, 0.15);\n",
              "      fill: #174EA6;\n",
              "    }\n",
              "\n",
              "    [theme=dark] .colab-df-convert {\n",
              "      background-color: #3B4455;\n",
              "      fill: #D2E3FC;\n",
              "    }\n",
              "\n",
              "    [theme=dark] .colab-df-convert:hover {\n",
              "      background-color: #434B5C;\n",
              "      box-shadow: 0px 1px 3px 1px rgba(0, 0, 0, 0.15);\n",
              "      filter: drop-shadow(0px 1px 2px rgba(0, 0, 0, 0.3));\n",
              "      fill: #FFFFFF;\n",
              "    }\n",
              "  </style>\n",
              "\n",
              "      <script>\n",
              "        const buttonEl =\n",
              "          document.querySelector('#df-aa9db9b4-e6ca-4b68-a469-52fce25dd2df button.colab-df-convert');\n",
              "        buttonEl.style.display =\n",
              "          google.colab.kernel.accessAllowed ? 'block' : 'none';\n",
              "\n",
              "        async function convertToInteractive(key) {\n",
              "          const element = document.querySelector('#df-aa9db9b4-e6ca-4b68-a469-52fce25dd2df');\n",
              "          const dataTable =\n",
              "            await google.colab.kernel.invokeFunction('convertToInteractive',\n",
              "                                                     [key], {});\n",
              "          if (!dataTable) return;\n",
              "\n",
              "          const docLinkHtml = 'Like what you see? Visit the ' +\n",
              "            '<a target=\"_blank\" href=https://colab.research.google.com/notebooks/data_table.ipynb>data table notebook</a>'\n",
              "            + ' to learn more about interactive tables.';\n",
              "          element.innerHTML = '';\n",
              "          dataTable['output_type'] = 'display_data';\n",
              "          await google.colab.output.renderOutput(dataTable, element);\n",
              "          const docLink = document.createElement('div');\n",
              "          docLink.innerHTML = docLinkHtml;\n",
              "          element.appendChild(docLink);\n",
              "        }\n",
              "      </script>\n",
              "    </div>\n",
              "  </div>\n",
              "  "
            ]
          },
          "metadata": {},
          "execution_count": 60
        }
      ]
    },
    {
      "cell_type": "code",
      "source": [
        "\n",
        "# ver quantidade de valores acima de 1500 para price\n",
        "print(\"\\nprice: valores acima\")\n",
        "print(\"{} entradas\".format(len(df[df.price > lim_sup])))\n",
        "print(\"A porcentagem desses valores em relação ao DataSet:\\t{:.4f}%\".format((len(df[df.price > lim_sup]) / df.shape[0])*100))"
      ],
      "metadata": {
        "id": "0oCxWOHl7Lpb",
        "colab": {
          "base_uri": "https://localhost:8080/"
        },
        "outputId": "277dfad9-2c36-479a-a04d-9f2200f8c864"
      },
      "execution_count": null,
      "outputs": [
        {
          "output_type": "stream",
          "name": "stdout",
          "text": [
            "\n",
            "price: valores acima\n",
            "3044 entradas\n",
            "A porcentagem desses valores em relação ao DataSet:\t8.1369%\n"
          ]
        }
      ]
    },
    {
      "cell_type": "code",
      "source": [
        ""
      ],
      "metadata": {
        "id": "LAmPvBTgHmua"
      },
      "execution_count": null,
      "outputs": []
    }
  ]
}